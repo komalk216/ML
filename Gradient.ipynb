{
 "cells": [
  {
   "cell_type": "code",
   "execution_count": 1,
   "id": "0337f793",
   "metadata": {},
   "outputs": [],
   "source": [
    "import numpy as np"
   ]
  },
  {
   "cell_type": "code",
   "execution_count": 2,
   "id": "45c669ca",
   "metadata": {},
   "outputs": [],
   "source": [
    "def gradient_descent(start, gradient, learn_rate, max_iter, tol=0.01):\n",
    "    steps = [start] \n",
    "    x = start\n",
    "\n",
    "    for _ in range(max_iter):\n",
    "        diff = learn_rate*gradient(x)\n",
    "        if np.abs(diff)<tol:\n",
    "            break    \n",
    "        x = x - diff\n",
    "        steps.append(x) \n",
    "\n",
    "    return steps, x"
   ]
  },
  {
   "cell_type": "code",
   "execution_count": 3,
   "id": "122956b0",
   "metadata": {},
   "outputs": [],
   "source": [
    "def func1(x):\n",
    "    return x**2-4*x+1\n",
    "\n",
    "def gradient_func1(x):\n",
    "    return 2*x - 4"
   ]
  },
  {
   "cell_type": "code",
   "execution_count": 4,
   "id": "f836e0d8",
   "metadata": {},
   "outputs": [],
   "source": [
    "history, result = gradient_descent(9, gradient_func1, 0.1, 100)"
   ]
  },
  {
   "cell_type": "code",
   "execution_count": 5,
   "id": "476a21b3",
   "metadata": {},
   "outputs": [
    {
     "name": "stdout",
     "output_type": "stream",
     "text": [
      "History [9, 7.6, 6.4799999999999995, 5.584, 4.8671999999999995, 4.29376, 3.8350079999999998, 3.4680063999999997, 3.17440512, 2.939524096, 2.7516192768, 2.60129542144, 2.481036337152, 2.3848290697216, 2.30786325577728, 2.246290604621824, 2.197032483697459, 2.1576259869579673, 2.1261007895663737, 2.100880631653099, 2.080704505322479, 2.064563604257983, 2.0516508834063862, 2.041320706725109]\n"
     ]
    }
   ],
   "source": [
    "print('History',history)"
   ]
  },
  {
   "cell_type": "code",
   "execution_count": 6,
   "id": "385dc55d",
   "metadata": {},
   "outputs": [
    {
     "name": "stdout",
     "output_type": "stream",
     "text": [
      "Result 2.041320706725109\n"
     ]
    }
   ],
   "source": [
    "print('Result',result)"
   ]
  },
  {
   "cell_type": "code",
   "execution_count": null,
   "id": "88cef82a",
   "metadata": {},
   "outputs": [],
   "source": []
  }
 ],
 "metadata": {
  "kernelspec": {
   "display_name": "Python 3 (ipykernel)",
   "language": "python",
   "name": "python3"
  },
  "language_info": {
   "codemirror_mode": {
    "name": "ipython",
    "version": 3
   },
   "file_extension": ".py",
   "mimetype": "text/x-python",
   "name": "python",
   "nbconvert_exporter": "python",
   "pygments_lexer": "ipython3",
   "version": "3.9.7"
  }
 },
 "nbformat": 4,
 "nbformat_minor": 5
}
